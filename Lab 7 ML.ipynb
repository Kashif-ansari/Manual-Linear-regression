{
 "cells": [
  {
   "cell_type": "code",
   "execution_count": 8,
   "id": "8a514969",
   "metadata": {},
   "outputs": [
    {
     "name": "stdout",
     "output_type": "stream",
     "text": [
      "Estimated coefficients : \n",
      "b_0 = 1.2363636363636363 \n",
      "b_1 = 1.1696969696969697\n"
     ]
    },
    {
     "data": {
      "image/png": "[encoded data removed]",
      "text/plain": [
       "<Figure size 432x288 with 1 Axes>"
      ]
     },
     "metadata": {
      "needs_background": "light"
     },
     "output_type": "display_data"
    }
   ],
   "source": [
    "import numpy as np\n",
    "import matplotlib.pyplot as plt\n",
    "def estimate_coef(x,y):\n",
    "    n = np.size(x)\n",
    "    m_x = np.mean(x)\n",
    "    m_y = np.mean(y)\n",
    "    ss_xy = np.sum(y*x)-n*m_y*m_x\n",
    "    ss_xx = np.sum(x*x)-n*m_x*m_x\n",
    "    b_1 = ss_xy/ss_xx\n",
    "    b_0 = m_y-b_1*m_x\n",
    "    return (b_0,b_1)\n",
    "def plot_regression_line(x,y,b):\n",
    "    plt.scatter(x,y,color = \"r\",marker = \"o\",s = 30)\n",
    "    y_pred =b[0]+b[1]*x\n",
    "    plt.plot(x,y_pred,color=\"b\")\n",
    "    plt.xlabel('x')\n",
    "    plt.ylabel('y')\n",
    "    plt.show()\n",
    "\n",
    "x = np.array([0,1,2,3,4,5,6,7,8,9])\n",
    "y = np.array([1,3,2,5,7,8,8,9,10,12])\n",
    "b = estimate_coef(x,y)\n",
    "print(\"Estimated coefficients : \\nb_0 = {} \\nb_1 = {}\".format(b[0],b[1]))\n",
    "plot_regression_line(x,y,b)"
   ]
  },
  {
   "cell_type": "code",
   "execution_count": null,
   "id": "3dfe291b",
   "metadata": {},
   "outputs": [],
   "source": []
  }
 ],
 "metadata": {
  "kernelspec": {
   "display_name": "Python 3",
   "language": "python",
   "name": "python3"
  },
  "language_info": {
   "codemirror_mode": {
    "name": "ipython",
    "version": 3
   },
   "file_extension": ".py",
   "mimetype": "text/x-python",
   "name": "python",
   "nbconvert_exporter": "python",
   "pygments_lexer": "ipython3",
   "version": "3.8.8"
  }
 },
 "nbformat": 4,
 "nbformat_minor": 5
}
